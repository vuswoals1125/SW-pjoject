{
 "cells": [
  {
   "cell_type": "code",
   "execution_count": null,
   "id": "4c2f604a",
   "metadata": {},
   "outputs": [],
   "source": [
    "import time\n",
    "from pyb import UART\n",
    "\n",
    "uart = UART(3, 115200, timeout_char=200)\n",
    "\n",
    "while True:\n",
    "    uart.write(\"Hello World!\\r\")\n",
    "    time.sleep_ms(1000)\n",
    "    print('send')"
   ]
  }
 ],
 "metadata": {
  "kernelspec": {
   "display_name": "Python 3 (ipykernel)",
   "language": "python",
   "name": "python3"
  },
  "language_info": {
   "codemirror_mode": {
    "name": "ipython",
    "version": 3
   },
   "file_extension": ".py",
   "mimetype": "text/x-python",
   "name": "python",
   "nbconvert_exporter": "python",
   "pygments_lexer": "ipython3",
   "version": "3.11.5"
  }
 },
 "nbformat": 4,
 "nbformat_minor": 5
}
